{
 "cells": [
  {
   "cell_type": "markdown",
   "id": "a74cd9fa",
   "metadata": {},
   "source": [
    "# EDA"
   ]
  },
  {
   "cell_type": "code",
   "execution_count": 15,
   "id": "cd78e58c",
   "metadata": {},
   "outputs": [],
   "source": [
    "import pandas as pd\n",
    "import numpy as np\n",
    "\n",
    "import matplotlib.pyplot as plt\n",
    "import seaborn as sns\n",
    "\n",
    "from warnings import filterwarnings\n",
    "filterwarnings('ignore')"
   ]
  },
  {
   "cell_type": "code",
   "execution_count": 16,
   "id": "546e0243",
   "metadata": {},
   "outputs": [
    {
     "data": {
      "text/html": [
       "<div>\n",
       "<style scoped>\n",
       "    .dataframe tbody tr th:only-of-type {\n",
       "        vertical-align: middle;\n",
       "    }\n",
       "\n",
       "    .dataframe tbody tr th {\n",
       "        vertical-align: top;\n",
       "    }\n",
       "\n",
       "    .dataframe thead th {\n",
       "        text-align: right;\n",
       "    }\n",
       "</style>\n",
       "<table border=\"1\" class=\"dataframe\">\n",
       "  <thead>\n",
       "    <tr style=\"text-align: right;\">\n",
       "      <th></th>\n",
       "      <th>UserId</th>\n",
       "      <th>ProductId</th>\n",
       "      <th>Rating</th>\n",
       "      <th>Timestamp</th>\n",
       "    </tr>\n",
       "  </thead>\n",
       "  <tbody>\n",
       "    <tr>\n",
       "      <th>0</th>\n",
       "      <td>A39HTATAQ9V7YF</td>\n",
       "      <td>0205616461</td>\n",
       "      <td>5.0</td>\n",
       "      <td>1369699200</td>\n",
       "    </tr>\n",
       "    <tr>\n",
       "      <th>1</th>\n",
       "      <td>A3JM6GV9MNOF9X</td>\n",
       "      <td>0558925278</td>\n",
       "      <td>3.0</td>\n",
       "      <td>1355443200</td>\n",
       "    </tr>\n",
       "    <tr>\n",
       "      <th>2</th>\n",
       "      <td>A1Z513UWSAAO0F</td>\n",
       "      <td>0558925278</td>\n",
       "      <td>5.0</td>\n",
       "      <td>1404691200</td>\n",
       "    </tr>\n",
       "    <tr>\n",
       "      <th>3</th>\n",
       "      <td>A1WMRR494NWEWV</td>\n",
       "      <td>0733001998</td>\n",
       "      <td>4.0</td>\n",
       "      <td>1382572800</td>\n",
       "    </tr>\n",
       "    <tr>\n",
       "      <th>4</th>\n",
       "      <td>A3IAAVS479H7M7</td>\n",
       "      <td>0737104473</td>\n",
       "      <td>1.0</td>\n",
       "      <td>1274227200</td>\n",
       "    </tr>\n",
       "  </tbody>\n",
       "</table>\n",
       "</div>"
      ],
      "text/plain": [
       "           UserId   ProductId  Rating   Timestamp\n",
       "0  A39HTATAQ9V7YF  0205616461     5.0  1369699200\n",
       "1  A3JM6GV9MNOF9X  0558925278     3.0  1355443200\n",
       "2  A1Z513UWSAAO0F  0558925278     5.0  1404691200\n",
       "3  A1WMRR494NWEWV  0733001998     4.0  1382572800\n",
       "4  A3IAAVS479H7M7  0737104473     1.0  1274227200"
      ]
     },
     "execution_count": 16,
     "metadata": {},
     "output_type": "execute_result"
    }
   ],
   "source": [
    "df = pd.read_csv('Data/raw_data.csv')\n",
    "df.head()"
   ]
  },
  {
   "cell_type": "code",
   "execution_count": 17,
   "id": "3c73b2cf",
   "metadata": {},
   "outputs": [],
   "source": [
    "df.drop('Timestamp', axis=1, inplace=True)"
   ]
  },
  {
   "cell_type": "code",
   "execution_count": 18,
   "id": "c657682f",
   "metadata": {},
   "outputs": [
    {
     "data": {
      "text/plain": [
       "(2023070, 3)"
      ]
     },
     "execution_count": 18,
     "metadata": {},
     "output_type": "execute_result"
    }
   ],
   "source": [
    "df.shape"
   ]
  },
  {
   "cell_type": "code",
   "execution_count": 19,
   "id": "a93ecf80",
   "metadata": {},
   "outputs": [
    {
     "data": {
      "text/plain": [
       "UserId       0\n",
       "ProductId    0\n",
       "Rating       0\n",
       "dtype: int64"
      ]
     },
     "execution_count": 19,
     "metadata": {},
     "output_type": "execute_result"
    }
   ],
   "source": [
    "# Find number of missing values in each column\n",
    "df.isna().sum()"
   ]
  },
  {
   "cell_type": "code",
   "execution_count": 13,
   "id": "9ebcaf16",
   "metadata": {},
   "outputs": [],
   "source": [
    "df['Rating'] = df['Rating'].astype('int8')"
   ]
  },
  {
   "cell_type": "code",
   "execution_count": 20,
   "id": "37ec2bfe",
   "metadata": {},
   "outputs": [
    {
     "name": "stdout",
     "output_type": "stream",
     "text": [
      "<class 'pandas.core.frame.DataFrame'>\n",
      "RangeIndex: 2023070 entries, 0 to 2023069\n",
      "Data columns (total 3 columns):\n",
      " #   Column     Dtype  \n",
      "---  ------     -----  \n",
      " 0   UserId     object \n",
      " 1   ProductId  object \n",
      " 2   Rating     float64\n",
      "dtypes: float64(1), object(2)\n",
      "memory usage: 46.3+ MB\n"
     ]
    }
   ],
   "source": [
    "df.info()"
   ]
  },
  {
   "cell_type": "code",
   "execution_count": null,
   "id": "2fd1d872",
   "metadata": {},
   "outputs": [
    {
     "data": {
      "text/plain": [
       "UserId       1210271\n",
       "ProductId     249274\n",
       "Rating             5\n",
       "dtype: int64"
      ]
     },
     "execution_count": 10,
     "metadata": {},
     "output_type": "execute_result"
    }
   ],
   "source": [
    "# Number of unique user id, product id and rating in the data\n",
    "df.nunique()"
   ]
  },
  {
   "cell_type": "code",
   "execution_count": 22,
   "id": "cdfd63db",
   "metadata": {},
   "outputs": [
    {
     "data": {
      "text/html": [
       "<div>\n",
       "<style scoped>\n",
       "    .dataframe tbody tr th:only-of-type {\n",
       "        vertical-align: middle;\n",
       "    }\n",
       "\n",
       "    .dataframe tbody tr th {\n",
       "        vertical-align: top;\n",
       "    }\n",
       "\n",
       "    .dataframe thead th {\n",
       "        text-align: right;\n",
       "    }\n",
       "</style>\n",
       "<table border=\"1\" class=\"dataframe\">\n",
       "  <thead>\n",
       "    <tr style=\"text-align: right;\">\n",
       "      <th></th>\n",
       "      <th>Rating</th>\n",
       "    </tr>\n",
       "  </thead>\n",
       "  <tbody>\n",
       "    <tr>\n",
       "      <th>count</th>\n",
       "      <td>2.023070e+06</td>\n",
       "    </tr>\n",
       "    <tr>\n",
       "      <th>mean</th>\n",
       "      <td>4.149036e+00</td>\n",
       "    </tr>\n",
       "    <tr>\n",
       "      <th>std</th>\n",
       "      <td>1.311505e+00</td>\n",
       "    </tr>\n",
       "    <tr>\n",
       "      <th>min</th>\n",
       "      <td>1.000000e+00</td>\n",
       "    </tr>\n",
       "    <tr>\n",
       "      <th>25%</th>\n",
       "      <td>4.000000e+00</td>\n",
       "    </tr>\n",
       "    <tr>\n",
       "      <th>50%</th>\n",
       "      <td>5.000000e+00</td>\n",
       "    </tr>\n",
       "    <tr>\n",
       "      <th>75%</th>\n",
       "      <td>5.000000e+00</td>\n",
       "    </tr>\n",
       "    <tr>\n",
       "      <th>max</th>\n",
       "      <td>5.000000e+00</td>\n",
       "    </tr>\n",
       "  </tbody>\n",
       "</table>\n",
       "</div>"
      ],
      "text/plain": [
       "             Rating\n",
       "count  2.023070e+06\n",
       "mean   4.149036e+00\n",
       "std    1.311505e+00\n",
       "min    1.000000e+00\n",
       "25%    4.000000e+00\n",
       "50%    5.000000e+00\n",
       "75%    5.000000e+00\n",
       "max    5.000000e+00"
      ]
     },
     "execution_count": 22,
     "metadata": {},
     "output_type": "execute_result"
    }
   ],
   "source": [
    "# Summary statistics of 'rating' variable\n",
    "df.describe()"
   ]
  },
  {
   "cell_type": "code",
   "execution_count": 26,
   "id": "819328d2",
   "metadata": {},
   "outputs": [
    {
     "data": {
      "image/png": "[encoded data removed]",
      "text/plain": [
       "<Figure size 800x400 with 1 Axes>"
      ]
     },
     "metadata": {},
     "output_type": "display_data"
    }
   ],
   "source": [
    "#Create the plot and provide observations\n",
    "\n",
    "plt.figure(figsize=(8, 4))\n",
    "df['Rating'].value_counts(normalize=True).sort_index().plot(kind='bar')\n",
    "plt.xlabel('Rating')\n",
    "plt.ylabel('Proportion')\n",
    "plt.title('Normalized Rating Distribution (Sorted)')\n",
    "plt.show()"
   ]
  },
  {
   "cell_type": "markdown",
   "id": "d92dc2d7",
   "metadata": {},
   "source": [
    "The distribution is skewed to the right. Over 50% of the ratings are 5, followed by a little below 20% with 4 star ratings. And the percentages of ratings keep going down until below 10% of the ratings are 2 stars."
   ]
  },
  {
   "cell_type": "code",
   "execution_count": null,
   "id": "ae693d5a",
   "metadata": {},
   "outputs": [
    {
     "data": {
      "text/plain": [
       "(UserId\n",
       " A3KEZLJ59C1JVH    389\n",
       " A281NPSIMI1C2R    336\n",
       " A3M174IC0VXOS2    326\n",
       " A2V5R832QCSOMX    278\n",
       " A3LJLRIZL38GG3    276\n",
       " ALQGOMOY1F5X9     275\n",
       " AKMEY1BSHSDG7     269\n",
       " A3R9H6OKZHHRJD    259\n",
       " A1M04H40ZVGWVG    249\n",
       " A1RRMZKOMZ2M7J    225\n",
       " Name: Rating, dtype: int64,\n",
       " UserId\n",
       " AZZW1OIA8GA92            1\n",
       " A00275441WYR3489IKNAB    1\n",
       " A001917029LKCOSCCWHP6    1\n",
       " AZZRS2XK17RFQ            1\n",
       " AZZVV7G4PUYXA            1\n",
       " A00260721BZWSYAKGDLGW    1\n",
       " AZZZU2TD7Q3ET            1\n",
       " A00008821J0F472NDY6A2    1\n",
       " A000186437REL8X2RW8UW    1\n",
       " A0002574WYJMBWKNCPY8     1\n",
       " Name: Rating, dtype: int64)"
      ]
     },
     "execution_count": 35,
     "metadata": {},
     "output_type": "execute_result"
    }
   ],
   "source": [
    "# Top, bottom 10 users based on rating\n",
    "most_rated = df.groupby('UserId')['Rating'].count().sort_values(ascending=False)[:10]\n",
    "least_rated = df.groupby('UserId')['Rating'].count().sort_values(ascending=False)[-10:]\n",
    "most_rated, least_rated"
   ]
  },
  {
   "cell_type": "code",
   "execution_count": null,
   "id": "796c7537",
   "metadata": {},
   "outputs": [
    {
     "data": {
      "text/plain": [
       "<Axes: ylabel='Count'>"
      ]
     },
     "execution_count": 47,
     "metadata": {},
     "output_type": "execute_result"
    },
    {
     "data": {
      "image/png": "[encoded data removed]",
      "text/plain": [
       "<Figure size 600x400 with 1 Axes>"
      ]
     },
     "metadata": {},
     "output_type": "display_data"
    }
   ],
   "source": [
    "# Making the Histogram\n",
    "user_rating = df.groupby('UserId')['Rating'].count()\n",
    "user_rating = user_rating.values\n",
    "\n",
    "plt.figure(figsize=(6,4))\n",
    "sns.histplot(user_rating, kde=True, bins = 100)"
   ]
  },
  {
   "cell_type": "markdown",
   "id": "9c6a0fcb",
   "metadata": {},
   "source": [
    "Data is highly right Skewed"
   ]
  },
  {
   "cell_type": "code",
   "execution_count": 36,
   "id": "f58e5aef",
   "metadata": {},
   "outputs": [
    {
     "data": {
      "text/plain": [
       "(ProductId\n",
       " B001MA0QY2    7533\n",
       " B0009V1YR8    2869\n",
       " B0043OYFKU    2477\n",
       " B0000YUXI0    2143\n",
       " B003V265QW    2088\n",
       " B000ZMBSPE    2041\n",
       " B003BQ6QXK    1918\n",
       " B004OHQR1Q    1885\n",
       " B00121UVU0    1838\n",
       " B000FS05VG    1589\n",
       " Name: Rating, dtype: int64,\n",
       " ProductId\n",
       " B005O0LS6G    1\n",
       " B005O0BGLS    1\n",
       " 1929099886    1\n",
       " 1304651088    1\n",
       " 130465110X    1\n",
       " 1304651118    1\n",
       " 1304651347    1\n",
       " 1304665704    1\n",
       " 130466578X    1\n",
       " 1304622452    1\n",
       " Name: Rating, dtype: int64)"
      ]
     },
     "execution_count": 36,
     "metadata": {},
     "output_type": "execute_result"
    }
   ],
   "source": [
    "# Top, bottom 10 item based on rating\n",
    "most_rated = df.groupby('ProductId')['Rating'].count().sort_values(ascending=False)[:10]\n",
    "least_rated = df.groupby('ProductId')['Rating'].count().sort_values(ascending=False)[-10:]\n",
    "most_rated, least_rated"
   ]
  },
  {
   "cell_type": "code",
   "execution_count": null,
   "id": "9bd27361",
   "metadata": {},
   "outputs": [
    {
     "data": {
      "text/plain": [
       "<Axes: ylabel='Count'>"
      ]
     },
     "execution_count": 49,
     "metadata": {},
     "output_type": "execute_result"
    },
    {
     "data": {
      "image/png": "[encoded data removed]",
      "text/plain": [
       "<Figure size 600x400 with 1 Axes>"
      ]
     },
     "metadata": {},
     "output_type": "display_data"
    }
   ],
   "source": [
    "product_rating = df.groupby('ProductId')['Rating'].count()\n",
    "product_rating = product_rating.values\n",
    "\n",
    "plt.figure(figsize=(6,4))\n",
    "sns.histplot(product_rating, kde=True, bins = 100)"
   ]
  },
  {
   "cell_type": "markdown",
   "id": "1fa0c34a",
   "metadata": {},
   "source": [
    "This data is also highly right skewed"
   ]
  },
  {
   "cell_type": "code",
   "execution_count": 55,
   "id": "42c81ca3",
   "metadata": {},
   "outputs": [
    {
     "data": {
      "text/plain": [
       "<Axes: ylabel='Count'>"
      ]
     },
     "execution_count": 55,
     "metadata": {},
     "output_type": "execute_result"
    },
    {
     "data": {
      "image/png": "[encoded data removed]",
      "text/plain": [
       "<Figure size 640x480 with 1 Axes>"
      ]
     },
     "metadata": {},
     "output_type": "display_data"
    }
   ],
   "source": [
    "sns.histplot(np.log(product_rating), kde=True, bins = 30)"
   ]
  },
  {
   "cell_type": "code",
   "execution_count": null,
   "id": "0e4929e5",
   "metadata": {},
   "outputs": [
    {
     "data": {
      "text/plain": [
       "<Axes: >"
      ]
     },
     "execution_count": 57,
     "metadata": {},
     "output_type": "execute_result"
    },
    {
     "data": {
      "image/png": "[encoded data removed]",
      "text/plain": [
       "<Figure size 640x480 with 1 Axes>"
      ]
     },
     "metadata": {},
     "output_type": "display_data"
    }
   ],
   "source": [
    "sns.boxplot([user_rating, product_rating])"
   ]
  },
  {
   "cell_type": "code",
   "execution_count": 65,
   "id": "bac53793",
   "metadata": {},
   "outputs": [
    {
     "data": {
      "text/plain": [
       "Rating\n",
       "5.0    5107\n",
       "4.0    1084\n",
       "1.0     485\n",
       "3.0     483\n",
       "2.0     374\n",
       "Name: count, dtype: int64"
      ]
     },
     "execution_count": 65,
     "metadata": {},
     "output_type": "execute_result"
    }
   ],
   "source": [
    "df[df.ProductId=='B001MA0QY2']['Rating'].value_counts()"
   ]
  },
  {
   "cell_type": "markdown",
   "id": "291f8b2b",
   "metadata": {},
   "source": [
    "These Values are so sparsed"
   ]
  },
  {
   "cell_type": "markdown",
   "id": "66fc1671",
   "metadata": {},
   "source": [
    "PreProcessign"
   ]
  },
  {
   "cell_type": "code",
   "execution_count": 75,
   "id": "5e211e91",
   "metadata": {},
   "outputs": [
    {
     "data": {
      "text/plain": [
       "(11023, 3)"
      ]
     },
     "execution_count": 75,
     "metadata": {},
     "output_type": "execute_result"
    }
   ],
   "source": [
    "counts = df['UserId'].value_counts()\n",
    "df_final = df[df['UserId'].isin(counts[counts >= 25].index)]\n",
    "\n",
    "counts = df_final['ProductId'].value_counts()\n",
    "df_final = df_final[df_final['ProductId'].isin(counts[counts >= 30].index)]\n",
    "\n",
    "df_final.shape"
   ]
  },
  {
   "cell_type": "code",
   "execution_count": 76,
   "id": "7b9dea40",
   "metadata": {},
   "outputs": [
    {
     "data": {
      "text/html": [
       "<div>\n",
       "<style scoped>\n",
       "    .dataframe tbody tr th:only-of-type {\n",
       "        vertical-align: middle;\n",
       "    }\n",
       "\n",
       "    .dataframe tbody tr th {\n",
       "        vertical-align: top;\n",
       "    }\n",
       "\n",
       "    .dataframe thead th {\n",
       "        text-align: right;\n",
       "    }\n",
       "</style>\n",
       "<table border=\"1\" class=\"dataframe\">\n",
       "  <thead>\n",
       "    <tr style=\"text-align: right;\">\n",
       "      <th></th>\n",
       "      <th>UserId</th>\n",
       "      <th>ProductId</th>\n",
       "      <th>Rating</th>\n",
       "    </tr>\n",
       "  </thead>\n",
       "  <tbody>\n",
       "    <tr>\n",
       "      <th>51631</th>\n",
       "      <td>A3C1A0LLYASWD4</td>\n",
       "      <td>B000142FVW</td>\n",
       "      <td>5.0</td>\n",
       "    </tr>\n",
       "    <tr>\n",
       "      <th>51641</th>\n",
       "      <td>A2D1LPEUCTNT8X</td>\n",
       "      <td>B000142FVW</td>\n",
       "      <td>5.0</td>\n",
       "    </tr>\n",
       "    <tr>\n",
       "      <th>51646</th>\n",
       "      <td>A2HD9JTLRSC9IL</td>\n",
       "      <td>B000142FVW</td>\n",
       "      <td>4.0</td>\n",
       "    </tr>\n",
       "    <tr>\n",
       "      <th>51650</th>\n",
       "      <td>A1M6NMY95XMOLG</td>\n",
       "      <td>B000142FVW</td>\n",
       "      <td>5.0</td>\n",
       "    </tr>\n",
       "    <tr>\n",
       "      <th>51693</th>\n",
       "      <td>A2OTGX253O4J4D</td>\n",
       "      <td>B000142FVW</td>\n",
       "      <td>5.0</td>\n",
       "    </tr>\n",
       "  </tbody>\n",
       "</table>\n",
       "</div>"
      ],
      "text/plain": [
       "               UserId   ProductId  Rating\n",
       "51631  A3C1A0LLYASWD4  B000142FVW     5.0\n",
       "51641  A2D1LPEUCTNT8X  B000142FVW     5.0\n",
       "51646  A2HD9JTLRSC9IL  B000142FVW     4.0\n",
       "51650  A1M6NMY95XMOLG  B000142FVW     5.0\n",
       "51693  A2OTGX253O4J4D  B000142FVW     5.0"
      ]
     },
     "execution_count": 76,
     "metadata": {},
     "output_type": "execute_result"
    }
   ],
   "source": [
    "df_final.head()"
   ]
  },
  {
   "cell_type": "code",
   "execution_count": 77,
   "id": "fd3c6b84",
   "metadata": {},
   "outputs": [
    {
     "data": {
      "text/plain": [
       "<Axes: >"
      ]
     },
     "execution_count": 77,
     "metadata": {},
     "output_type": "execute_result"
    },
    {
     "data": {
      "image/png": "[encoded data removed]",
      "text/plain": [
       "<Figure size 640x480 with 1 Axes>"
      ]
     },
     "metadata": {},
     "output_type": "display_data"
    }
   ],
   "source": [
    "user_rating = df_final.groupby('UserId')['Rating'].count()\n",
    "user_rating = user_rating.values\n",
    "\n",
    "product_rating = df_final.groupby('ProductId')['Rating'].count()\n",
    "product_rating = product_rating.values\n",
    "\n",
    "sns.boxplot([user_rating, product_rating])"
   ]
  },
  {
   "cell_type": "code",
   "execution_count": 78,
   "id": "b99c7660",
   "metadata": {},
   "outputs": [
    {
     "data": {
      "text/plain": [
       "Rating\n",
       "5.0    4765\n",
       "4.0    3639\n",
       "3.0    1654\n",
       "2.0     662\n",
       "1.0     303\n",
       "Name: count, dtype: int64"
      ]
     },
     "execution_count": 78,
     "metadata": {},
     "output_type": "execute_result"
    }
   ],
   "source": [
    "df_final.Rating.value_counts()"
   ]
  },
  {
   "cell_type": "code",
   "execution_count": 80,
   "id": "63de147e",
   "metadata": {},
   "outputs": [
    {
     "name": "stdout",
     "output_type": "stream",
     "text": [
      "The number of observations in the final data = 11023\n",
      "Number of unique USERS in the final data =  1124\n",
      "Number of unique PRODUCTS in the final data =  230\n"
     ]
    }
   ],
   "source": [
    "print('The number of observations in the final data =', len(df_final))\n",
    "print('Number of unique USERS in the final data = ', df_final['UserId'].nunique())\n",
    "print('Number of unique PRODUCTS in the final data = ', df_final['ProductId'].nunique())"
   ]
  },
  {
   "cell_type": "markdown",
   "id": "8638ce94",
   "metadata": {},
   "source": [
    "We will be using the final_df for making models and would be used to predict the recomendations."
   ]
  },
  {
   "cell_type": "markdown",
   "id": "6c11f962",
   "metadata": {},
   "source": [
    "Checking the density of the rating matrix"
   ]
  },
  {
   "cell_type": "code",
   "execution_count": 87,
   "id": "3fea4f5b",
   "metadata": {},
   "outputs": [
    {
     "data": {
      "text/html": [
       "<div>\n",
       "<style scoped>\n",
       "    .dataframe tbody tr th:only-of-type {\n",
       "        vertical-align: middle;\n",
       "    }\n",
       "\n",
       "    .dataframe tbody tr th {\n",
       "        vertical-align: top;\n",
       "    }\n",
       "\n",
       "    .dataframe thead th {\n",
       "        text-align: right;\n",
       "    }\n",
       "</style>\n",
       "<table border=\"1\" class=\"dataframe\">\n",
       "  <thead>\n",
       "    <tr style=\"text-align: right;\">\n",
       "      <th>ProductId</th>\n",
       "      <th>B000142FVW</th>\n",
       "      <th>B00016XJ4M</th>\n",
       "      <th>B0002Z8HAI</th>\n",
       "      <th>B000AO2NXS</th>\n",
       "      <th>B000E0K7NQ</th>\n",
       "      <th>B000FBNV1Y</th>\n",
       "      <th>B000H8UN3Y</th>\n",
       "      <th>B000HRVC5I</th>\n",
       "      <th>B000PHRIQM</th>\n",
       "      <th>B000TKH6G2</th>\n",
       "      <th>...</th>\n",
       "      <th>B00HM6IVXI</th>\n",
       "      <th>B00HM6K6XQ</th>\n",
       "      <th>B00HNKRWI8</th>\n",
       "      <th>B00HSNWXVQ</th>\n",
       "      <th>B00HSNX1AS</th>\n",
       "      <th>B00I073WLE</th>\n",
       "      <th>B00IDWP4IA</th>\n",
       "      <th>B00IP42FBA</th>\n",
       "      <th>B00IT1HKV4</th>\n",
       "      <th>B00IT69F62</th>\n",
       "    </tr>\n",
       "    <tr>\n",
       "      <th>UserId</th>\n",
       "      <th></th>\n",
       "      <th></th>\n",
       "      <th></th>\n",
       "      <th></th>\n",
       "      <th></th>\n",
       "      <th></th>\n",
       "      <th></th>\n",
       "      <th></th>\n",
       "      <th></th>\n",
       "      <th></th>\n",
       "      <th></th>\n",
       "      <th></th>\n",
       "      <th></th>\n",
       "      <th></th>\n",
       "      <th></th>\n",
       "      <th></th>\n",
       "      <th></th>\n",
       "      <th></th>\n",
       "      <th></th>\n",
       "      <th></th>\n",
       "      <th></th>\n",
       "    </tr>\n",
       "  </thead>\n",
       "  <tbody>\n",
       "    <tr>\n",
       "      <th>A03364251DGXSGA9PSR99</th>\n",
       "      <td>0</td>\n",
       "      <td>0</td>\n",
       "      <td>0</td>\n",
       "      <td>0</td>\n",
       "      <td>0</td>\n",
       "      <td>0</td>\n",
       "      <td>0</td>\n",
       "      <td>5</td>\n",
       "      <td>0</td>\n",
       "      <td>0</td>\n",
       "      <td>...</td>\n",
       "      <td>0</td>\n",
       "      <td>0</td>\n",
       "      <td>0</td>\n",
       "      <td>0</td>\n",
       "      <td>0</td>\n",
       "      <td>0</td>\n",
       "      <td>0</td>\n",
       "      <td>0</td>\n",
       "      <td>0</td>\n",
       "      <td>0</td>\n",
       "    </tr>\n",
       "    <tr>\n",
       "      <th>A100WO06OQR8BQ</th>\n",
       "      <td>0</td>\n",
       "      <td>0</td>\n",
       "      <td>0</td>\n",
       "      <td>0</td>\n",
       "      <td>0</td>\n",
       "      <td>0</td>\n",
       "      <td>0</td>\n",
       "      <td>0</td>\n",
       "      <td>0</td>\n",
       "      <td>0</td>\n",
       "      <td>...</td>\n",
       "      <td>0</td>\n",
       "      <td>0</td>\n",
       "      <td>0</td>\n",
       "      <td>0</td>\n",
       "      <td>0</td>\n",
       "      <td>0</td>\n",
       "      <td>0</td>\n",
       "      <td>0</td>\n",
       "      <td>0</td>\n",
       "      <td>0</td>\n",
       "    </tr>\n",
       "    <tr>\n",
       "      <th>A103979529MRJY0U56QI4</th>\n",
       "      <td>0</td>\n",
       "      <td>0</td>\n",
       "      <td>0</td>\n",
       "      <td>0</td>\n",
       "      <td>0</td>\n",
       "      <td>0</td>\n",
       "      <td>0</td>\n",
       "      <td>0</td>\n",
       "      <td>0</td>\n",
       "      <td>0</td>\n",
       "      <td>...</td>\n",
       "      <td>0</td>\n",
       "      <td>0</td>\n",
       "      <td>0</td>\n",
       "      <td>0</td>\n",
       "      <td>0</td>\n",
       "      <td>0</td>\n",
       "      <td>0</td>\n",
       "      <td>0</td>\n",
       "      <td>0</td>\n",
       "      <td>0</td>\n",
       "    </tr>\n",
       "    <tr>\n",
       "      <th>A103BJIOJSDJL1</th>\n",
       "      <td>0</td>\n",
       "      <td>0</td>\n",
       "      <td>0</td>\n",
       "      <td>5</td>\n",
       "      <td>0</td>\n",
       "      <td>0</td>\n",
       "      <td>2</td>\n",
       "      <td>0</td>\n",
       "      <td>0</td>\n",
       "      <td>0</td>\n",
       "      <td>...</td>\n",
       "      <td>0</td>\n",
       "      <td>0</td>\n",
       "      <td>0</td>\n",
       "      <td>0</td>\n",
       "      <td>0</td>\n",
       "      <td>0</td>\n",
       "      <td>0</td>\n",
       "      <td>0</td>\n",
       "      <td>0</td>\n",
       "      <td>0</td>\n",
       "    </tr>\n",
       "    <tr>\n",
       "      <th>A105S56ODHGJEK</th>\n",
       "      <td>0</td>\n",
       "      <td>0</td>\n",
       "      <td>0</td>\n",
       "      <td>0</td>\n",
       "      <td>0</td>\n",
       "      <td>0</td>\n",
       "      <td>0</td>\n",
       "      <td>0</td>\n",
       "      <td>0</td>\n",
       "      <td>0</td>\n",
       "      <td>...</td>\n",
       "      <td>0</td>\n",
       "      <td>0</td>\n",
       "      <td>0</td>\n",
       "      <td>0</td>\n",
       "      <td>0</td>\n",
       "      <td>0</td>\n",
       "      <td>0</td>\n",
       "      <td>0</td>\n",
       "      <td>0</td>\n",
       "      <td>0</td>\n",
       "    </tr>\n",
       "    <tr>\n",
       "      <th>...</th>\n",
       "      <td>...</td>\n",
       "      <td>...</td>\n",
       "      <td>...</td>\n",
       "      <td>...</td>\n",
       "      <td>...</td>\n",
       "      <td>...</td>\n",
       "      <td>...</td>\n",
       "      <td>...</td>\n",
       "      <td>...</td>\n",
       "      <td>...</td>\n",
       "      <td>...</td>\n",
       "      <td>...</td>\n",
       "      <td>...</td>\n",
       "      <td>...</td>\n",
       "      <td>...</td>\n",
       "      <td>...</td>\n",
       "      <td>...</td>\n",
       "      <td>...</td>\n",
       "      <td>...</td>\n",
       "      <td>...</td>\n",
       "      <td>...</td>\n",
       "    </tr>\n",
       "    <tr>\n",
       "      <th>AZ9JPUSCI0V49</th>\n",
       "      <td>0</td>\n",
       "      <td>0</td>\n",
       "      <td>0</td>\n",
       "      <td>0</td>\n",
       "      <td>0</td>\n",
       "      <td>0</td>\n",
       "      <td>0</td>\n",
       "      <td>0</td>\n",
       "      <td>4</td>\n",
       "      <td>0</td>\n",
       "      <td>...</td>\n",
       "      <td>0</td>\n",
       "      <td>0</td>\n",
       "      <td>0</td>\n",
       "      <td>0</td>\n",
       "      <td>0</td>\n",
       "      <td>0</td>\n",
       "      <td>0</td>\n",
       "      <td>0</td>\n",
       "      <td>0</td>\n",
       "      <td>0</td>\n",
       "    </tr>\n",
       "    <tr>\n",
       "      <th>AZA595ZPIG240</th>\n",
       "      <td>0</td>\n",
       "      <td>0</td>\n",
       "      <td>0</td>\n",
       "      <td>5</td>\n",
       "      <td>4</td>\n",
       "      <td>0</td>\n",
       "      <td>0</td>\n",
       "      <td>0</td>\n",
       "      <td>0</td>\n",
       "      <td>0</td>\n",
       "      <td>...</td>\n",
       "      <td>0</td>\n",
       "      <td>0</td>\n",
       "      <td>0</td>\n",
       "      <td>0</td>\n",
       "      <td>0</td>\n",
       "      <td>0</td>\n",
       "      <td>0</td>\n",
       "      <td>0</td>\n",
       "      <td>0</td>\n",
       "      <td>0</td>\n",
       "    </tr>\n",
       "    <tr>\n",
       "      <th>AZFHSPEZUPGD2</th>\n",
       "      <td>0</td>\n",
       "      <td>0</td>\n",
       "      <td>0</td>\n",
       "      <td>0</td>\n",
       "      <td>0</td>\n",
       "      <td>0</td>\n",
       "      <td>0</td>\n",
       "      <td>0</td>\n",
       "      <td>0</td>\n",
       "      <td>0</td>\n",
       "      <td>...</td>\n",
       "      <td>0</td>\n",
       "      <td>0</td>\n",
       "      <td>0</td>\n",
       "      <td>0</td>\n",
       "      <td>0</td>\n",
       "      <td>0</td>\n",
       "      <td>0</td>\n",
       "      <td>0</td>\n",
       "      <td>0</td>\n",
       "      <td>0</td>\n",
       "    </tr>\n",
       "    <tr>\n",
       "      <th>AZIDXJ9F7A83Z</th>\n",
       "      <td>0</td>\n",
       "      <td>0</td>\n",
       "      <td>0</td>\n",
       "      <td>0</td>\n",
       "      <td>0</td>\n",
       "      <td>0</td>\n",
       "      <td>0</td>\n",
       "      <td>0</td>\n",
       "      <td>0</td>\n",
       "      <td>0</td>\n",
       "      <td>...</td>\n",
       "      <td>0</td>\n",
       "      <td>0</td>\n",
       "      <td>0</td>\n",
       "      <td>0</td>\n",
       "      <td>0</td>\n",
       "      <td>0</td>\n",
       "      <td>0</td>\n",
       "      <td>0</td>\n",
       "      <td>0</td>\n",
       "      <td>0</td>\n",
       "    </tr>\n",
       "    <tr>\n",
       "      <th>AZMMFZKJB8PV6</th>\n",
       "      <td>0</td>\n",
       "      <td>0</td>\n",
       "      <td>0</td>\n",
       "      <td>0</td>\n",
       "      <td>0</td>\n",
       "      <td>0</td>\n",
       "      <td>0</td>\n",
       "      <td>0</td>\n",
       "      <td>0</td>\n",
       "      <td>0</td>\n",
       "      <td>...</td>\n",
       "      <td>0</td>\n",
       "      <td>0</td>\n",
       "      <td>0</td>\n",
       "      <td>0</td>\n",
       "      <td>0</td>\n",
       "      <td>0</td>\n",
       "      <td>0</td>\n",
       "      <td>0</td>\n",
       "      <td>0</td>\n",
       "      <td>0</td>\n",
       "    </tr>\n",
       "  </tbody>\n",
       "</table>\n",
       "<p>1124 rows × 230 columns</p>\n",
       "</div>"
      ],
      "text/plain": [
       "ProductId              B000142FVW  B00016XJ4M  B0002Z8HAI  B000AO2NXS  \\\n",
       "UserId                                                                  \n",
       "A03364251DGXSGA9PSR99           0           0           0           0   \n",
       "A100WO06OQR8BQ                  0           0           0           0   \n",
       "A103979529MRJY0U56QI4           0           0           0           0   \n",
       "A103BJIOJSDJL1                  0           0           0           5   \n",
       "A105S56ODHGJEK                  0           0           0           0   \n",
       "...                           ...         ...         ...         ...   \n",
       "AZ9JPUSCI0V49                   0           0           0           0   \n",
       "AZA595ZPIG240                   0           0           0           5   \n",
       "AZFHSPEZUPGD2                   0           0           0           0   \n",
       "AZIDXJ9F7A83Z                   0           0           0           0   \n",
       "AZMMFZKJB8PV6                   0           0           0           0   \n",
       "\n",
       "ProductId              B000E0K7NQ  B000FBNV1Y  B000H8UN3Y  B000HRVC5I  \\\n",
       "UserId                                                                  \n",
       "A03364251DGXSGA9PSR99           0           0           0           5   \n",
       "A100WO06OQR8BQ                  0           0           0           0   \n",
       "A103979529MRJY0U56QI4           0           0           0           0   \n",
       "A103BJIOJSDJL1                  0           0           2           0   \n",
       "A105S56ODHGJEK                  0           0           0           0   \n",
       "...                           ...         ...         ...         ...   \n",
       "AZ9JPUSCI0V49                   0           0           0           0   \n",
       "AZA595ZPIG240                   4           0           0           0   \n",
       "AZFHSPEZUPGD2                   0           0           0           0   \n",
       "AZIDXJ9F7A83Z                   0           0           0           0   \n",
       "AZMMFZKJB8PV6                   0           0           0           0   \n",
       "\n",
       "ProductId              B000PHRIQM  B000TKH6G2  ...  B00HM6IVXI  B00HM6K6XQ  \\\n",
       "UserId                                         ...                           \n",
       "A03364251DGXSGA9PSR99           0           0  ...           0           0   \n",
       "A100WO06OQR8BQ                  0           0  ...           0           0   \n",
       "A103979529MRJY0U56QI4           0           0  ...           0           0   \n",
       "A103BJIOJSDJL1                  0           0  ...           0           0   \n",
       "A105S56ODHGJEK                  0           0  ...           0           0   \n",
       "...                           ...         ...  ...         ...         ...   \n",
       "AZ9JPUSCI0V49                   4           0  ...           0           0   \n",
       "AZA595ZPIG240                   0           0  ...           0           0   \n",
       "AZFHSPEZUPGD2                   0           0  ...           0           0   \n",
       "AZIDXJ9F7A83Z                   0           0  ...           0           0   \n",
       "AZMMFZKJB8PV6                   0           0  ...           0           0   \n",
       "\n",
       "ProductId              B00HNKRWI8  B00HSNWXVQ  B00HSNX1AS  B00I073WLE  \\\n",
       "UserId                                                                  \n",
       "A03364251DGXSGA9PSR99           0           0           0           0   \n",
       "A100WO06OQR8BQ                  0           0           0           0   \n",
       "A103979529MRJY0U56QI4           0           0           0           0   \n",
       "A103BJIOJSDJL1                  0           0           0           0   \n",
       "A105S56ODHGJEK                  0           0           0           0   \n",
       "...                           ...         ...         ...         ...   \n",
       "AZ9JPUSCI0V49                   0           0           0           0   \n",
       "AZA595ZPIG240                   0           0           0           0   \n",
       "AZFHSPEZUPGD2                   0           0           0           0   \n",
       "AZIDXJ9F7A83Z                   0           0           0           0   \n",
       "AZMMFZKJB8PV6                   0           0           0           0   \n",
       "\n",
       "ProductId              B00IDWP4IA  B00IP42FBA  B00IT1HKV4  B00IT69F62  \n",
       "UserId                                                                 \n",
       "A03364251DGXSGA9PSR99           0           0           0           0  \n",
       "A100WO06OQR8BQ                  0           0           0           0  \n",
       "A103979529MRJY0U56QI4           0           0           0           0  \n",
       "A103BJIOJSDJL1                  0           0           0           0  \n",
       "A105S56ODHGJEK                  0           0           0           0  \n",
       "...                           ...         ...         ...         ...  \n",
       "AZ9JPUSCI0V49                   0           0           0           0  \n",
       "AZA595ZPIG240                   0           0           0           0  \n",
       "AZFHSPEZUPGD2                   0           0           0           0  \n",
       "AZIDXJ9F7A83Z                   0           0           0           0  \n",
       "AZMMFZKJB8PV6                   0           0           0           0  \n",
       "\n",
       "[1124 rows x 230 columns]"
      ]
     },
     "execution_count": 87,
     "metadata": {},
     "output_type": "execute_result"
    }
   ],
   "source": [
    "matrix = df_final.pivot(index='UserId', columns='ProductId', values='Rating').fillna(0).astype('int8')\n",
    "matrix"
   ]
  },
  {
   "cell_type": "code",
   "execution_count": 88,
   "id": "3a886c24",
   "metadata": {},
   "outputs": [
    {
     "data": {
      "text/plain": [
       "(258520, (1124, 230), '46.30452346801758MB')"
      ]
     },
     "execution_count": 88,
     "metadata": {},
     "output_type": "execute_result"
    }
   ],
   "source": [
    "matrix.size, matrix.shape, str(df.memory_usage().sum()/1024**2) + \"MB\""
   ]
  },
  {
   "cell_type": "code",
   "execution_count": 89,
   "id": "f443f426",
   "metadata": {},
   "outputs": [
    {
     "name": "stdout",
     "output_type": "stream",
     "text": [
      "given_num_of_ratings =  11023\n",
      "possible_num_of_ratings =  258520\n",
      "density: 4.26%\n"
     ]
    }
   ],
   "source": [
    "#Finding the number of non-zero entries in the interaction matrix \n",
    "given_num_of_ratings = np.count_nonzero(matrix)\n",
    "print('given_num_of_ratings = ', given_num_of_ratings)\n",
    "\n",
    "possible_num_of_ratings = matrix.shape[0] * matrix.shape[1]\n",
    "print('possible_num_of_ratings = ', possible_num_of_ratings)\n",
    "\n",
    "density = (given_num_of_ratings/possible_num_of_ratings)\n",
    "density *= 100\n",
    "print ('density: {:4.2f}%'.format(density))\n"
   ]
  },
  {
   "cell_type": "markdown",
   "id": "d91330d0",
   "metadata": {},
   "source": [
    "We have more than 4% of the values in  matrix"
   ]
  },
  {
   "cell_type": "code",
   "execution_count": 90,
   "id": "e307f247",
   "metadata": {},
   "outputs": [],
   "source": [
    "df_final.to_csv('Data/Processed_matrix.csv')"
   ]
  },
  {
   "cell_type": "code",
   "execution_count": null,
   "id": "1221030b",
   "metadata": {},
   "outputs": [],
   "source": []
  }
 ],
 "metadata": {
  "kernelspec": {
   "display_name": "Python 3",
   "language": "python",
   "name": "python3"
  },
  "language_info": {
   "codemirror_mode": {
    "name": "ipython",
    "version": 3
   },
   "file_extension": ".py",
   "mimetype": "text/x-python",
   "name": "python",
   "nbconvert_exporter": "python",
   "pygments_lexer": "ipython3",
   "version": "3.13.1"
  }
 },
 "nbformat": 4,
 "nbformat_minor": 5
}

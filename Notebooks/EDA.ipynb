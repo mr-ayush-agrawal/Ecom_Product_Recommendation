{
 "cells": [
  {
   "cell_type": "markdown",
   "id": "a74cd9fa",
   "metadata": {},
   "source": [
    "# EDA"
   ]
  },
  {
   "cell_type": "code",
   "execution_count": 2,
   "id": "cd78e58c",
   "metadata": {},
   "outputs": [],
   "source": [
    "import pandas as pd\n",
    "import numpy as np\n",
    "\n",
    "import matplotlib.pyplot as plt\n",
    "import seaborn as sns\n",
    "\n",
    "from warnings import filterwarnings\n",
    "filterwarnings('ignore')"
   ]
  },
  {
   "cell_type": "code",
   "execution_count": 3,
   "id": "546e0243",
   "metadata": {},
   "outputs": [
    {
     "data": {
      "text/html": [
       "<div>\n",
       "<style scoped>\n",
       "    .dataframe tbody tr th:only-of-type {\n",
       "        vertical-align: middle;\n",
       "    }\n",
       "\n",
       "    .dataframe tbody tr th {\n",
       "        vertical-align: top;\n",
       "    }\n",
       "\n",
       "    .dataframe thead th {\n",
       "        text-align: right;\n",
       "    }\n",
       "</style>\n",
       "<table border=\"1\" class=\"dataframe\">\n",
       "  <thead>\n",
       "    <tr style=\"text-align: right;\">\n",
       "      <th></th>\n",
       "      <th>UserId</th>\n",
       "      <th>ProductId</th>\n",
       "      <th>Rating</th>\n",
       "      <th>Timestamp</th>\n",
       "    </tr>\n",
       "  </thead>\n",
       "  <tbody>\n",
       "    <tr>\n",
       "      <th>0</th>\n",
       "      <td>A39HTATAQ9V7YF</td>\n",
       "      <td>0205616461</td>\n",
       "      <td>5.0</td>\n",
       "      <td>1369699200</td>\n",
       "    </tr>\n",
       "    <tr>\n",
       "      <th>1</th>\n",
       "      <td>A3JM6GV9MNOF9X</td>\n",
       "      <td>0558925278</td>\n",
       "      <td>3.0</td>\n",
       "      <td>1355443200</td>\n",
       "    </tr>\n",
       "    <tr>\n",
       "      <th>2</th>\n",
       "      <td>A1Z513UWSAAO0F</td>\n",
       "      <td>0558925278</td>\n",
       "      <td>5.0</td>\n",
       "      <td>1404691200</td>\n",
       "    </tr>\n",
       "    <tr>\n",
       "      <th>3</th>\n",
       "      <td>A1WMRR494NWEWV</td>\n",
       "      <td>0733001998</td>\n",
       "      <td>4.0</td>\n",
       "      <td>1382572800</td>\n",
       "    </tr>\n",
       "    <tr>\n",
       "      <th>4</th>\n",
       "      <td>A3IAAVS479H7M7</td>\n",
       "      <td>0737104473</td>\n",
       "      <td>1.0</td>\n",
       "      <td>1274227200</td>\n",
       "    </tr>\n",
       "  </tbody>\n",
       "</table>\n",
       "</div>"
      ],
      "text/plain": [
       "           UserId   ProductId  Rating   Timestamp\n",
       "0  A39HTATAQ9V7YF  0205616461     5.0  1369699200\n",
       "1  A3JM6GV9MNOF9X  0558925278     3.0  1355443200\n",
       "2  A1Z513UWSAAO0F  0558925278     5.0  1404691200\n",
       "3  A1WMRR494NWEWV  0733001998     4.0  1382572800\n",
       "4  A3IAAVS479H7M7  0737104473     1.0  1274227200"
      ]
     },
     "execution_count": 3,
     "metadata": {},
     "output_type": "execute_result"
    }
   ],
   "source": [
    "df = pd.read_csv('../Data/raw_data.csv')\n",
    "df.head()"
   ]
  },
  {
   "cell_type": "code",
   "execution_count": 4,
   "id": "3c73b2cf",
   "metadata": {},
   "outputs": [],
   "source": [
    "df.drop('Timestamp', axis=1, inplace=True)"
   ]
  },
  {
   "cell_type": "code",
   "execution_count": 5,
   "id": "c657682f",
   "metadata": {},
   "outputs": [
    {
     "data": {
      "text/plain": [
       "(2023070, 3)"
      ]
     },
     "execution_count": 5,
     "metadata": {},
     "output_type": "execute_result"
    }
   ],
   "source": [
    "df.shape"
   ]
  },
  {
   "cell_type": "code",
   "execution_count": 6,
   "id": "a93ecf80",
   "metadata": {},
   "outputs": [
    {
     "data": {
      "text/plain": [
       "UserId       0\n",
       "ProductId    0\n",
       "Rating       0\n",
       "dtype: int64"
      ]
     },
     "execution_count": 6,
     "metadata": {},
     "output_type": "execute_result"
    }
   ],
   "source": [
    "# Find number of missing values in each column\n",
    "df.isna().sum()"
   ]
  },
  {
   "cell_type": "code",
   "execution_count": 7,
   "id": "9ebcaf16",
   "metadata": {},
   "outputs": [],
   "source": [
    "df['Rating'] = df['Rating'].astype('int8')"
   ]
  },
  {
   "cell_type": "code",
   "execution_count": 8,
   "id": "37ec2bfe",
   "metadata": {},
   "outputs": [
    {
     "name": "stdout",
     "output_type": "stream",
     "text": [
      "<class 'pandas.core.frame.DataFrame'>\n",
      "RangeIndex: 2023070 entries, 0 to 2023069\n",
      "Data columns (total 3 columns):\n",
      " #   Column     Dtype \n",
      "---  ------     ----- \n",
      " 0   UserId     object\n",
      " 1   ProductId  object\n",
      " 2   Rating     int8  \n",
      "dtypes: int8(1), object(2)\n",
      "memory usage: 32.8+ MB\n"
     ]
    }
   ],
   "source": [
    "df.info()"
   ]
  },
  {
   "cell_type": "code",
   "execution_count": 9,
   "id": "2fd1d872",
   "metadata": {},
   "outputs": [
    {
     "data": {
      "text/plain": [
       "UserId       1210271\n",
       "ProductId     249274\n",
       "Rating             5\n",
       "dtype: int64"
      ]
     },
     "execution_count": 9,
     "metadata": {},
     "output_type": "execute_result"
    }
   ],
   "source": [
    "# Number of unique user id, product id and rating in the data\n",
    "df.nunique()"
   ]
  },
  {
   "cell_type": "code",
   "execution_count": 10,
   "id": "cdfd63db",
   "metadata": {},
   "outputs": [
    {
     "data": {
      "text/html": [
       "<div>\n",
       "<style scoped>\n",
       "    .dataframe tbody tr th:only-of-type {\n",
       "        vertical-align: middle;\n",
       "    }\n",
       "\n",
       "    .dataframe tbody tr th {\n",
       "        vertical-align: top;\n",
       "    }\n",
       "\n",
       "    .dataframe thead th {\n",
       "        text-align: right;\n",
       "    }\n",
       "</style>\n",
       "<table border=\"1\" class=\"dataframe\">\n",
       "  <thead>\n",
       "    <tr style=\"text-align: right;\">\n",
       "      <th></th>\n",
       "      <th>Rating</th>\n",
       "    </tr>\n",
       "  </thead>\n",
       "  <tbody>\n",
       "    <tr>\n",
       "      <th>count</th>\n",
       "      <td>2.023070e+06</td>\n",
       "    </tr>\n",
       "    <tr>\n",
       "      <th>mean</th>\n",
       "      <td>4.149036e+00</td>\n",
       "    </tr>\n",
       "    <tr>\n",
       "      <th>std</th>\n",
       "      <td>1.311505e+00</td>\n",
       "    </tr>\n",
       "    <tr>\n",
       "      <th>min</th>\n",
       "      <td>1.000000e+00</td>\n",
       "    </tr>\n",
       "    <tr>\n",
       "      <th>25%</th>\n",
       "      <td>4.000000e+00</td>\n",
       "    </tr>\n",
       "    <tr>\n",
       "      <th>50%</th>\n",
       "      <td>5.000000e+00</td>\n",
       "    </tr>\n",
       "    <tr>\n",
       "      <th>75%</th>\n",
       "      <td>5.000000e+00</td>\n",
       "    </tr>\n",
       "    <tr>\n",
       "      <th>max</th>\n",
       "      <td>5.000000e+00</td>\n",
       "    </tr>\n",
       "  </tbody>\n",
       "</table>\n",
       "</div>"
      ],
      "text/plain": [
       "             Rating\n",
       "count  2.023070e+06\n",
       "mean   4.149036e+00\n",
       "std    1.311505e+00\n",
       "min    1.000000e+00\n",
       "25%    4.000000e+00\n",
       "50%    5.000000e+00\n",
       "75%    5.000000e+00\n",
       "max    5.000000e+00"
      ]
     },
     "execution_count": 10,
     "metadata": {},
     "output_type": "execute_result"
    }
   ],
   "source": [
    "# Summary statistics of 'rating' variable\n",
    "df.describe()"
   ]
  },
  {
   "cell_type": "code",
   "execution_count": 11,
   "id": "819328d2",
   "metadata": {},
   "outputs": [
    {
     "data": {
      "image/png": "[encoded data removed]",
      "text/plain": [
       "<Figure size 800x400 with 1 Axes>"
      ]
     },
     "metadata": {},
     "output_type": "display_data"
    }
   ],
   "source": [
    "#Create the plot and provide observations\n",
    "\n",
    "plt.figure(figsize=(8, 4))\n",
    "df['Rating'].value_counts(normalize=True).sort_index().plot(kind='bar')\n",
    "plt.xlabel('Rating')\n",
    "plt.ylabel('Proportion')\n",
    "plt.title('Normalized Rating Distribution (Sorted)')\n",
    "plt.show()"
   ]
  },
  {
   "cell_type": "markdown",
   "id": "d92dc2d7",
   "metadata": {},
   "source": [
    "The distribution is skewed to the right. Over 50% of the ratings are 5, followed by a little below 20% with 4 star ratings. And the percentages of ratings keep going down until below 10% of the ratings are 2 stars."
   ]
  },
  {
   "cell_type": "code",
   "execution_count": 12,
   "id": "ae693d5a",
   "metadata": {},
   "outputs": [
    {
     "data": {
      "text/plain": [
       "(UserId\n",
       " A3KEZLJ59C1JVH    389\n",
       " A281NPSIMI1C2R    336\n",
       " A3M174IC0VXOS2    326\n",
       " A2V5R832QCSOMX    278\n",
       " A3LJLRIZL38GG3    276\n",
       " ALQGOMOY1F5X9     275\n",
       " AKMEY1BSHSDG7     269\n",
       " A3R9H6OKZHHRJD    259\n",
       " A1M04H40ZVGWVG    249\n",
       " A1RRMZKOMZ2M7J    225\n",
       " Name: Rating, dtype: int64,\n",
       " UserId\n",
       " AZZW1OIA8GA92            1\n",
       " A00275441WYR3489IKNAB    1\n",
       " A001917029LKCOSCCWHP6    1\n",
       " AZZRS2XK17RFQ            1\n",
       " AZZVV7G4PUYXA            1\n",
       " A00260721BZWSYAKGDLGW    1\n",
       " AZZZU2TD7Q3ET            1\n",
       " A00008821J0F472NDY6A2    1\n",
       " A000186437REL8X2RW8UW    1\n",
       " A0002574WYJMBWKNCPY8     1\n",
       " Name: Rating, dtype: int64)"
      ]
     },
     "execution_count": 12,
     "metadata": {},
     "output_type": "execute_result"
    }
   ],
   "source": [
    "# Top, bottom 10 users based on rating\n",
    "most_rated = df.groupby('UserId')['Rating'].count().sort_values(ascending=False)[:10]\n",
    "least_rated = df.groupby('UserId')['Rating'].count().sort_values(ascending=False)[-10:]\n",
    "most_rated, least_rated"
   ]
  },
  {
   "cell_type": "code",
   "execution_count": 13,
   "id": "796c7537",
   "metadata": {},
   "outputs": [
    {
     "data": {
      "text/plain": [
       "<Axes: ylabel='Count'>"
      ]
     },
     "execution_count": 13,
     "metadata": {},
     "output_type": "execute_result"
    },
    {
     "data": {
      "image/png": "[encoded data removed]",
      "text/plain": [
       "<Figure size 600x400 with 1 Axes>"
      ]
     },
     "metadata": {},
     "output_type": "display_data"
    }
   ],
   "source": [
    "# Making the Histogram\n",
    "user_rating = df.groupby('UserId')['Rating'].count()\n",
    "user_rating = user_rating.values\n",
    "\n",
    "plt.figure(figsize=(6,4))\n",
    "sns.histplot(user_rating, kde=True, bins = 100)"
   ]
  },
  {
   "cell_type": "markdown",
   "id": "9c6a0fcb",
   "metadata": {},
   "source": [
    "Data is highly right Skewed"
   ]
  },
  {
   "cell_type": "code",
   "execution_count": 14,
   "id": "f58e5aef",
   "metadata": {},
   "outputs": [
    {
     "data": {
      "text/plain": [
       "(ProductId\n",
       " B001MA0QY2    7533\n",
       " B0009V1YR8    2869\n",
       " B0043OYFKU    2477\n",
       " B0000YUXI0    2143\n",
       " B003V265QW    2088\n",
       " B000ZMBSPE    2041\n",
       " B003BQ6QXK    1918\n",
       " B004OHQR1Q    1885\n",
       " B00121UVU0    1838\n",
       " B000FS05VG    1589\n",
       " Name: Rating, dtype: int64,\n",
       " ProductId\n",
       " B005O0LS6G    1\n",
       " B005O0BGLS    1\n",
       " 1929099886    1\n",
       " 1304651088    1\n",
       " 130465110X    1\n",
       " 1304651118    1\n",
       " 1304651347    1\n",
       " 1304665704    1\n",
       " 130466578X    1\n",
       " 1304622452    1\n",
       " Name: Rating, dtype: int64)"
      ]
     },
     "execution_count": 14,
     "metadata": {},
     "output_type": "execute_result"
    }
   ],
   "source": [
    "# Top, bottom 10 item based on rating\n",
    "most_rated = df.groupby('ProductId')['Rating'].count().sort_values(ascending=False)[:10]\n",
    "least_rated = df.groupby('ProductId')['Rating'].count().sort_values(ascending=False)[-10:]\n",
    "most_rated, least_rated"
   ]
  },
  {
   "cell_type": "code",
   "execution_count": 15,
   "id": "9bd27361",
   "metadata": {},
   "outputs": [
    {
     "data": {
      "text/plain": [
       "<Axes: ylabel='Count'>"
      ]
     },
     "execution_count": 15,
     "metadata": {},
     "output_type": "execute_result"
    },
    {
     "data": {
      "image/png": "[encoded data removed]",
      "text/plain": [
       "<Figure size 600x400 with 1 Axes>"
      ]
     },
     "metadata": {},
     "output_type": "display_data"
    }
   ],
   "source": [
    "product_rating = df.groupby('ProductId')['Rating'].count()\n",
    "product_rating = product_rating.values\n",
    "\n",
    "plt.figure(figsize=(6,4))\n",
    "sns.histplot(product_rating, kde=True, bins = 100)"
   ]
  },
  {
   "cell_type": "markdown",
   "id": "1fa0c34a",
   "metadata": {},
   "source": [
    "This data is also highly right skewed"
   ]
  },
  {
   "cell_type": "code",
   "execution_count": 16,
   "id": "42c81ca3",
   "metadata": {},
   "outputs": [
    {
     "data": {
      "text/plain": [
       "<Axes: ylabel='Count'>"
      ]
     },
     "execution_count": 16,
     "metadata": {},
     "output_type": "execute_result"
    },
    {
     "data": {
      "image/png": "[encoded data removed]",
      "text/plain": [
       "<Figure size 640x480 with 1 Axes>"
      ]
     },
     "metadata": {},
     "output_type": "display_data"
    }
   ],
   "source": [
    "sns.histplot(np.log(product_rating), kde=True, bins = 30)"
   ]
  },
  {
   "cell_type": "code",
   "execution_count": 17,
   "id": "0e4929e5",
   "metadata": {},
   "outputs": [
    {
     "data": {
      "text/plain": [
       "<Axes: >"
      ]
     },
     "execution_count": 17,
     "metadata": {},
     "output_type": "execute_result"
    },
    {
     "data": {
      "image/png": "[encoded data removed]",
      "text/plain": [
       "<Figure size 640x480 with 1 Axes>"
      ]
     },
     "metadata": {},
     "output_type": "display_data"
    }
   ],
   "source": [
    "sns.boxplot([user_rating, product_rating])"
   ]
  },
  {
   "cell_type": "code",
   "execution_count": 18,
   "id": "bac53793",
   "metadata": {},
   "outputs": [
    {
     "data": {
      "text/plain": [
       "Rating\n",
       "5    5107\n",
       "4    1084\n",
       "1     485\n",
       "3     483\n",
       "2     374\n",
       "Name: count, dtype: int64"
      ]
     },
     "execution_count": 18,
     "metadata": {},
     "output_type": "execute_result"
    }
   ],
   "source": [
    "df[df.ProductId=='B001MA0QY2']['Rating'].value_counts()"
   ]
  },
  {
   "cell_type": "markdown",
   "id": "291f8b2b",
   "metadata": {},
   "source": [
    "These Values are so sparsed"
   ]
  },
  {
   "cell_type": "markdown",
   "id": "66fc1671",
   "metadata": {},
   "source": [
    "### PreProcessing"
   ]
  },
  {
   "cell_type": "code",
   "execution_count": 28,
   "id": "5e211e91",
   "metadata": {},
   "outputs": [
    {
     "data": {
      "text/plain": [
       "(35284, 3)"
      ]
     },
     "execution_count": 28,
     "metadata": {},
     "output_type": "execute_result"
    }
   ],
   "source": [
    "counts = df['UserId'].value_counts()\n",
    "df_final = df[df['UserId'].isin(counts[counts >= 15].index)]\n",
    "\n",
    "counts = df_final['ProductId'].value_counts()\n",
    "df_final = df_final[df_final['ProductId'].isin(counts[counts >= 20].index)]\n",
    "\n",
    "df_final.shape"
   ]
  },
  {
   "cell_type": "code",
   "execution_count": 29,
   "id": "7b9dea40",
   "metadata": {},
   "outputs": [
    {
     "data": {
      "text/html": [
       "<div>\n",
       "<style scoped>\n",
       "    .dataframe tbody tr th:only-of-type {\n",
       "        vertical-align: middle;\n",
       "    }\n",
       "\n",
       "    .dataframe tbody tr th {\n",
       "        vertical-align: top;\n",
       "    }\n",
       "\n",
       "    .dataframe thead th {\n",
       "        text-align: right;\n",
       "    }\n",
       "</style>\n",
       "<table border=\"1\" class=\"dataframe\">\n",
       "  <thead>\n",
       "    <tr style=\"text-align: right;\">\n",
       "      <th></th>\n",
       "      <th>UserId</th>\n",
       "      <th>ProductId</th>\n",
       "      <th>Rating</th>\n",
       "    </tr>\n",
       "  </thead>\n",
       "  <tbody>\n",
       "    <tr>\n",
       "      <th>4247</th>\n",
       "      <td>A12LN1UTGCPU4R</td>\n",
       "      <td>B000052WYD</td>\n",
       "      <td>5</td>\n",
       "    </tr>\n",
       "    <tr>\n",
       "      <th>4249</th>\n",
       "      <td>A4DIVP0NEQDA3</td>\n",
       "      <td>B000052WYD</td>\n",
       "      <td>5</td>\n",
       "    </tr>\n",
       "    <tr>\n",
       "      <th>4260</th>\n",
       "      <td>A2JEGR5ASS6OE3</td>\n",
       "      <td>B000052WYD</td>\n",
       "      <td>3</td>\n",
       "    </tr>\n",
       "    <tr>\n",
       "      <th>4269</th>\n",
       "      <td>A3977OZLNA8LCB</td>\n",
       "      <td>B000052WYD</td>\n",
       "      <td>5</td>\n",
       "    </tr>\n",
       "    <tr>\n",
       "      <th>4270</th>\n",
       "      <td>A18Z7ICRLVHBBP</td>\n",
       "      <td>B000052WYD</td>\n",
       "      <td>5</td>\n",
       "    </tr>\n",
       "  </tbody>\n",
       "</table>\n",
       "</div>"
      ],
      "text/plain": [
       "              UserId   ProductId  Rating\n",
       "4247  A12LN1UTGCPU4R  B000052WYD       5\n",
       "4249   A4DIVP0NEQDA3  B000052WYD       5\n",
       "4260  A2JEGR5ASS6OE3  B000052WYD       3\n",
       "4269  A3977OZLNA8LCB  B000052WYD       5\n",
       "4270  A18Z7ICRLVHBBP  B000052WYD       5"
      ]
     },
     "execution_count": 29,
     "metadata": {},
     "output_type": "execute_result"
    }
   ],
   "source": [
    "df_final.head()"
   ]
  },
  {
   "cell_type": "code",
   "execution_count": 30,
   "id": "fd3c6b84",
   "metadata": {},
   "outputs": [
    {
     "data": {
      "text/plain": [
       "<Axes: >"
      ]
     },
     "execution_count": 30,
     "metadata": {},
     "output_type": "execute_result"
    },
    {
     "data": {
      "image/png": "[encoded data removed]",
      "text/plain": [
       "<Figure size 640x480 with 1 Axes>"
      ]
     },
     "metadata": {},
     "output_type": "display_data"
    }
   ],
   "source": [
    "user_rating = df_final.groupby('UserId')['Rating'].count()\n",
    "user_rating = user_rating.values\n",
    "\n",
    "product_rating = df_final.groupby('ProductId')['Rating'].count()\n",
    "product_rating = product_rating.values\n",
    "\n",
    "sns.boxplot([user_rating, product_rating])"
   ]
  },
  {
   "cell_type": "code",
   "execution_count": 31,
   "id": "b99c7660",
   "metadata": {},
   "outputs": [
    {
     "data": {
      "text/plain": [
       "Rating\n",
       "5    18000\n",
       "4     9473\n",
       "3     4611\n",
       "2     2015\n",
       "1     1185\n",
       "Name: count, dtype: int64"
      ]
     },
     "execution_count": 31,
     "metadata": {},
     "output_type": "execute_result"
    }
   ],
   "source": [
    "df_final.Rating.value_counts()"
   ]
  },
  {
   "cell_type": "code",
   "execution_count": 32,
   "id": "63de147e",
   "metadata": {},
   "outputs": [
    {
     "name": "stdout",
     "output_type": "stream",
     "text": [
      "The number of observations in the final data = 35284\n",
      "Number of unique USERS in the final data =  4456\n",
      "Number of unique PRODUCTS in the final data =  850\n"
     ]
    }
   ],
   "source": [
    "print('The number of observations in the final data =', len(df_final))\n",
    "print('Number of unique USERS in the final data = ', df_final['UserId'].nunique())\n",
    "print('Number of unique PRODUCTS in the final data = ', df_final['ProductId'].nunique())"
   ]
  },
  {
   "cell_type": "markdown",
   "id": "8638ce94",
   "metadata": {},
   "source": [
    "We will be using the final_df for making models and would be used to predict the recomendations."
   ]
  },
  {
   "cell_type": "markdown",
   "id": "6c11f962",
   "metadata": {},
   "source": [
    "Checking the density of the rating matrix"
   ]
  },
  {
   "cell_type": "code",
   "execution_count": 33,
   "id": "3fea4f5b",
   "metadata": {},
   "outputs": [
    {
     "data": {
      "text/html": [
       "<div>\n",
       "<style scoped>\n",
       "    .dataframe tbody tr th:only-of-type {\n",
       "        vertical-align: middle;\n",
       "    }\n",
       "\n",
       "    .dataframe tbody tr th {\n",
       "        vertical-align: top;\n",
       "    }\n",
       "\n",
       "    .dataframe thead th {\n",
       "        text-align: right;\n",
       "    }\n",
       "</style>\n",
       "<table border=\"1\" class=\"dataframe\">\n",
       "  <thead>\n",
       "    <tr style=\"text-align: right;\">\n",
       "      <th>ProductId</th>\n",
       "      <th>B000052WYD</th>\n",
       "      <th>B000052YJM</th>\n",
       "      <th>B000052YM4</th>\n",
       "      <th>B000052YM7</th>\n",
       "      <th>B000052YP6</th>\n",
       "      <th>B0000530ED</th>\n",
       "      <th>B0000536P4</th>\n",
       "      <th>B0000632EN</th>\n",
       "      <th>B00006FRW7</th>\n",
       "      <th>B00006JN4F</th>\n",
       "      <th>...</th>\n",
       "      <th>B00KAL5JAU</th>\n",
       "      <th>B00KCFAZTE</th>\n",
       "      <th>B00KCTER3U</th>\n",
       "      <th>B00KD73PBQ</th>\n",
       "      <th>B00KH6F6TM</th>\n",
       "      <th>B00KHGIK54</th>\n",
       "      <th>B00KHH2VOY</th>\n",
       "      <th>B00KQBR9FM</th>\n",
       "      <th>B00KQVTX06</th>\n",
       "      <th>B00KTLBEEQ</th>\n",
       "    </tr>\n",
       "    <tr>\n",
       "      <th>UserId</th>\n",
       "      <th></th>\n",
       "      <th></th>\n",
       "      <th></th>\n",
       "      <th></th>\n",
       "      <th></th>\n",
       "      <th></th>\n",
       "      <th></th>\n",
       "      <th></th>\n",
       "      <th></th>\n",
       "      <th></th>\n",
       "      <th></th>\n",
       "      <th></th>\n",
       "      <th></th>\n",
       "      <th></th>\n",
       "      <th></th>\n",
       "      <th></th>\n",
       "      <th></th>\n",
       "      <th></th>\n",
       "      <th></th>\n",
       "      <th></th>\n",
       "      <th></th>\n",
       "    </tr>\n",
       "  </thead>\n",
       "  <tbody>\n",
       "    <tr>\n",
       "      <th>A02155413BVL8D0G7X6DN</th>\n",
       "      <td>0</td>\n",
       "      <td>0</td>\n",
       "      <td>0</td>\n",
       "      <td>0</td>\n",
       "      <td>0</td>\n",
       "      <td>0</td>\n",
       "      <td>0</td>\n",
       "      <td>0</td>\n",
       "      <td>0</td>\n",
       "      <td>0</td>\n",
       "      <td>...</td>\n",
       "      <td>0</td>\n",
       "      <td>0</td>\n",
       "      <td>0</td>\n",
       "      <td>0</td>\n",
       "      <td>0</td>\n",
       "      <td>0</td>\n",
       "      <td>0</td>\n",
       "      <td>0</td>\n",
       "      <td>0</td>\n",
       "      <td>0</td>\n",
       "    </tr>\n",
       "    <tr>\n",
       "      <th>A03364251DGXSGA9PSR99</th>\n",
       "      <td>0</td>\n",
       "      <td>0</td>\n",
       "      <td>0</td>\n",
       "      <td>0</td>\n",
       "      <td>0</td>\n",
       "      <td>0</td>\n",
       "      <td>0</td>\n",
       "      <td>0</td>\n",
       "      <td>0</td>\n",
       "      <td>0</td>\n",
       "      <td>...</td>\n",
       "      <td>0</td>\n",
       "      <td>0</td>\n",
       "      <td>0</td>\n",
       "      <td>0</td>\n",
       "      <td>0</td>\n",
       "      <td>0</td>\n",
       "      <td>0</td>\n",
       "      <td>0</td>\n",
       "      <td>0</td>\n",
       "      <td>0</td>\n",
       "    </tr>\n",
       "    <tr>\n",
       "      <th>A099766128UI0NCS98N1E</th>\n",
       "      <td>0</td>\n",
       "      <td>0</td>\n",
       "      <td>0</td>\n",
       "      <td>0</td>\n",
       "      <td>0</td>\n",
       "      <td>0</td>\n",
       "      <td>0</td>\n",
       "      <td>0</td>\n",
       "      <td>0</td>\n",
       "      <td>0</td>\n",
       "      <td>...</td>\n",
       "      <td>0</td>\n",
       "      <td>0</td>\n",
       "      <td>0</td>\n",
       "      <td>0</td>\n",
       "      <td>0</td>\n",
       "      <td>0</td>\n",
       "      <td>0</td>\n",
       "      <td>0</td>\n",
       "      <td>0</td>\n",
       "      <td>0</td>\n",
       "    </tr>\n",
       "    <tr>\n",
       "      <th>A100VQNP6I54HS</th>\n",
       "      <td>0</td>\n",
       "      <td>0</td>\n",
       "      <td>0</td>\n",
       "      <td>0</td>\n",
       "      <td>0</td>\n",
       "      <td>0</td>\n",
       "      <td>0</td>\n",
       "      <td>0</td>\n",
       "      <td>0</td>\n",
       "      <td>0</td>\n",
       "      <td>...</td>\n",
       "      <td>0</td>\n",
       "      <td>0</td>\n",
       "      <td>0</td>\n",
       "      <td>0</td>\n",
       "      <td>0</td>\n",
       "      <td>0</td>\n",
       "      <td>0</td>\n",
       "      <td>0</td>\n",
       "      <td>0</td>\n",
       "      <td>0</td>\n",
       "    </tr>\n",
       "    <tr>\n",
       "      <th>A100WO06OQR8BQ</th>\n",
       "      <td>0</td>\n",
       "      <td>0</td>\n",
       "      <td>0</td>\n",
       "      <td>0</td>\n",
       "      <td>0</td>\n",
       "      <td>0</td>\n",
       "      <td>0</td>\n",
       "      <td>0</td>\n",
       "      <td>0</td>\n",
       "      <td>0</td>\n",
       "      <td>...</td>\n",
       "      <td>0</td>\n",
       "      <td>0</td>\n",
       "      <td>0</td>\n",
       "      <td>0</td>\n",
       "      <td>0</td>\n",
       "      <td>0</td>\n",
       "      <td>0</td>\n",
       "      <td>0</td>\n",
       "      <td>0</td>\n",
       "      <td>0</td>\n",
       "    </tr>\n",
       "    <tr>\n",
       "      <th>...</th>\n",
       "      <td>...</td>\n",
       "      <td>...</td>\n",
       "      <td>...</td>\n",
       "      <td>...</td>\n",
       "      <td>...</td>\n",
       "      <td>...</td>\n",
       "      <td>...</td>\n",
       "      <td>...</td>\n",
       "      <td>...</td>\n",
       "      <td>...</td>\n",
       "      <td>...</td>\n",
       "      <td>...</td>\n",
       "      <td>...</td>\n",
       "      <td>...</td>\n",
       "      <td>...</td>\n",
       "      <td>...</td>\n",
       "      <td>...</td>\n",
       "      <td>...</td>\n",
       "      <td>...</td>\n",
       "      <td>...</td>\n",
       "      <td>...</td>\n",
       "    </tr>\n",
       "    <tr>\n",
       "      <th>AZOO27I3Z0IQO</th>\n",
       "      <td>0</td>\n",
       "      <td>0</td>\n",
       "      <td>0</td>\n",
       "      <td>0</td>\n",
       "      <td>0</td>\n",
       "      <td>0</td>\n",
       "      <td>0</td>\n",
       "      <td>0</td>\n",
       "      <td>0</td>\n",
       "      <td>0</td>\n",
       "      <td>...</td>\n",
       "      <td>0</td>\n",
       "      <td>0</td>\n",
       "      <td>0</td>\n",
       "      <td>0</td>\n",
       "      <td>0</td>\n",
       "      <td>0</td>\n",
       "      <td>0</td>\n",
       "      <td>0</td>\n",
       "      <td>0</td>\n",
       "      <td>0</td>\n",
       "    </tr>\n",
       "    <tr>\n",
       "      <th>AZPHYNPEZDMIO</th>\n",
       "      <td>0</td>\n",
       "      <td>0</td>\n",
       "      <td>0</td>\n",
       "      <td>0</td>\n",
       "      <td>0</td>\n",
       "      <td>0</td>\n",
       "      <td>0</td>\n",
       "      <td>0</td>\n",
       "      <td>0</td>\n",
       "      <td>0</td>\n",
       "      <td>...</td>\n",
       "      <td>0</td>\n",
       "      <td>0</td>\n",
       "      <td>0</td>\n",
       "      <td>0</td>\n",
       "      <td>0</td>\n",
       "      <td>0</td>\n",
       "      <td>0</td>\n",
       "      <td>0</td>\n",
       "      <td>0</td>\n",
       "      <td>0</td>\n",
       "    </tr>\n",
       "    <tr>\n",
       "      <th>AZTZ7SIIRXLXE</th>\n",
       "      <td>0</td>\n",
       "      <td>0</td>\n",
       "      <td>0</td>\n",
       "      <td>0</td>\n",
       "      <td>0</td>\n",
       "      <td>0</td>\n",
       "      <td>0</td>\n",
       "      <td>0</td>\n",
       "      <td>0</td>\n",
       "      <td>0</td>\n",
       "      <td>...</td>\n",
       "      <td>0</td>\n",
       "      <td>0</td>\n",
       "      <td>0</td>\n",
       "      <td>0</td>\n",
       "      <td>0</td>\n",
       "      <td>0</td>\n",
       "      <td>0</td>\n",
       "      <td>0</td>\n",
       "      <td>0</td>\n",
       "      <td>0</td>\n",
       "    </tr>\n",
       "    <tr>\n",
       "      <th>AZUH2MX87LX7J</th>\n",
       "      <td>0</td>\n",
       "      <td>0</td>\n",
       "      <td>0</td>\n",
       "      <td>0</td>\n",
       "      <td>0</td>\n",
       "      <td>0</td>\n",
       "      <td>0</td>\n",
       "      <td>0</td>\n",
       "      <td>0</td>\n",
       "      <td>0</td>\n",
       "      <td>...</td>\n",
       "      <td>0</td>\n",
       "      <td>0</td>\n",
       "      <td>0</td>\n",
       "      <td>0</td>\n",
       "      <td>0</td>\n",
       "      <td>0</td>\n",
       "      <td>0</td>\n",
       "      <td>0</td>\n",
       "      <td>0</td>\n",
       "      <td>0</td>\n",
       "    </tr>\n",
       "    <tr>\n",
       "      <th>AZZT1ERHBSNQ8</th>\n",
       "      <td>0</td>\n",
       "      <td>0</td>\n",
       "      <td>0</td>\n",
       "      <td>0</td>\n",
       "      <td>0</td>\n",
       "      <td>0</td>\n",
       "      <td>0</td>\n",
       "      <td>0</td>\n",
       "      <td>0</td>\n",
       "      <td>0</td>\n",
       "      <td>...</td>\n",
       "      <td>0</td>\n",
       "      <td>0</td>\n",
       "      <td>0</td>\n",
       "      <td>0</td>\n",
       "      <td>0</td>\n",
       "      <td>0</td>\n",
       "      <td>0</td>\n",
       "      <td>0</td>\n",
       "      <td>0</td>\n",
       "      <td>0</td>\n",
       "    </tr>\n",
       "  </tbody>\n",
       "</table>\n",
       "<p>4456 rows × 850 columns</p>\n",
       "</div>"
      ],
      "text/plain": [
       "ProductId              B000052WYD  B000052YJM  B000052YM4  B000052YM7  \\\n",
       "UserId                                                                  \n",
       "A02155413BVL8D0G7X6DN           0           0           0           0   \n",
       "A03364251DGXSGA9PSR99           0           0           0           0   \n",
       "A099766128UI0NCS98N1E           0           0           0           0   \n",
       "A100VQNP6I54HS                  0           0           0           0   \n",
       "A100WO06OQR8BQ                  0           0           0           0   \n",
       "...                           ...         ...         ...         ...   \n",
       "AZOO27I3Z0IQO                   0           0           0           0   \n",
       "AZPHYNPEZDMIO                   0           0           0           0   \n",
       "AZTZ7SIIRXLXE                   0           0           0           0   \n",
       "AZUH2MX87LX7J                   0           0           0           0   \n",
       "AZZT1ERHBSNQ8                   0           0           0           0   \n",
       "\n",
       "ProductId              B000052YP6  B0000530ED  B0000536P4  B0000632EN  \\\n",
       "UserId                                                                  \n",
       "A02155413BVL8D0G7X6DN           0           0           0           0   \n",
       "A03364251DGXSGA9PSR99           0           0           0           0   \n",
       "A099766128UI0NCS98N1E           0           0           0           0   \n",
       "A100VQNP6I54HS                  0           0           0           0   \n",
       "A100WO06OQR8BQ                  0           0           0           0   \n",
       "...                           ...         ...         ...         ...   \n",
       "AZOO27I3Z0IQO                   0           0           0           0   \n",
       "AZPHYNPEZDMIO                   0           0           0           0   \n",
       "AZTZ7SIIRXLXE                   0           0           0           0   \n",
       "AZUH2MX87LX7J                   0           0           0           0   \n",
       "AZZT1ERHBSNQ8                   0           0           0           0   \n",
       "\n",
       "ProductId              B00006FRW7  B00006JN4F  ...  B00KAL5JAU  B00KCFAZTE  \\\n",
       "UserId                                         ...                           \n",
       "A02155413BVL8D0G7X6DN           0           0  ...           0           0   \n",
       "A03364251DGXSGA9PSR99           0           0  ...           0           0   \n",
       "A099766128UI0NCS98N1E           0           0  ...           0           0   \n",
       "A100VQNP6I54HS                  0           0  ...           0           0   \n",
       "A100WO06OQR8BQ                  0           0  ...           0           0   \n",
       "...                           ...         ...  ...         ...         ...   \n",
       "AZOO27I3Z0IQO                   0           0  ...           0           0   \n",
       "AZPHYNPEZDMIO                   0           0  ...           0           0   \n",
       "AZTZ7SIIRXLXE                   0           0  ...           0           0   \n",
       "AZUH2MX87LX7J                   0           0  ...           0           0   \n",
       "AZZT1ERHBSNQ8                   0           0  ...           0           0   \n",
       "\n",
       "ProductId              B00KCTER3U  B00KD73PBQ  B00KH6F6TM  B00KHGIK54  \\\n",
       "UserId                                                                  \n",
       "A02155413BVL8D0G7X6DN           0           0           0           0   \n",
       "A03364251DGXSGA9PSR99           0           0           0           0   \n",
       "A099766128UI0NCS98N1E           0           0           0           0   \n",
       "A100VQNP6I54HS                  0           0           0           0   \n",
       "A100WO06OQR8BQ                  0           0           0           0   \n",
       "...                           ...         ...         ...         ...   \n",
       "AZOO27I3Z0IQO                   0           0           0           0   \n",
       "AZPHYNPEZDMIO                   0           0           0           0   \n",
       "AZTZ7SIIRXLXE                   0           0           0           0   \n",
       "AZUH2MX87LX7J                   0           0           0           0   \n",
       "AZZT1ERHBSNQ8                   0           0           0           0   \n",
       "\n",
       "ProductId              B00KHH2VOY  B00KQBR9FM  B00KQVTX06  B00KTLBEEQ  \n",
       "UserId                                                                 \n",
       "A02155413BVL8D0G7X6DN           0           0           0           0  \n",
       "A03364251DGXSGA9PSR99           0           0           0           0  \n",
       "A099766128UI0NCS98N1E           0           0           0           0  \n",
       "A100VQNP6I54HS                  0           0           0           0  \n",
       "A100WO06OQR8BQ                  0           0           0           0  \n",
       "...                           ...         ...         ...         ...  \n",
       "AZOO27I3Z0IQO                   0           0           0           0  \n",
       "AZPHYNPEZDMIO                   0           0           0           0  \n",
       "AZTZ7SIIRXLXE                   0           0           0           0  \n",
       "AZUH2MX87LX7J                   0           0           0           0  \n",
       "AZZT1ERHBSNQ8                   0           0           0           0  \n",
       "\n",
       "[4456 rows x 850 columns]"
      ]
     },
     "execution_count": 33,
     "metadata": {},
     "output_type": "execute_result"
    }
   ],
   "source": [
    "matrix = df_final.pivot(index='UserId', columns='ProductId', values='Rating').fillna(0).astype('int8')\n",
    "matrix"
   ]
  },
  {
   "cell_type": "code",
   "execution_count": 34,
   "id": "3a886c24",
   "metadata": {},
   "outputs": [
    {
     "data": {
      "text/plain": [
       "(3787600, (4456, 850), '32.79907417297363MB')"
      ]
     },
     "execution_count": 34,
     "metadata": {},
     "output_type": "execute_result"
    }
   ],
   "source": [
    "matrix.size, matrix.shape, str(df.memory_usage().sum()/1024**2) + \"MB\""
   ]
  },
  {
   "cell_type": "code",
   "execution_count": 35,
   "id": "f443f426",
   "metadata": {},
   "outputs": [
    {
     "name": "stdout",
     "output_type": "stream",
     "text": [
      "given_num_of_ratings =  35284\n",
      "possible_num_of_ratings =  3787600\n",
      "density: 0.93%\n"
     ]
    }
   ],
   "source": [
    "#Finding the number of non-zero entries in the interaction matrix \n",
    "given_num_of_ratings = np.count_nonzero(matrix)\n",
    "print('given_num_of_ratings = ', given_num_of_ratings)\n",
    "\n",
    "possible_num_of_ratings = matrix.shape[0] * matrix.shape[1]\n",
    "print('possible_num_of_ratings = ', possible_num_of_ratings)\n",
    "\n",
    "density = (given_num_of_ratings/possible_num_of_ratings)\n",
    "density *= 100\n",
    "print ('density: {:4.2f}%'.format(density))\n"
   ]
  },
  {
   "cell_type": "markdown",
   "id": "d91330d0",
   "metadata": {},
   "source": [
    "We have more than 4% of the values in  matrix"
   ]
  },
  {
   "cell_type": "code",
   "execution_count": 36,
   "id": "e307f247",
   "metadata": {},
   "outputs": [],
   "source": [
    "matrix.to_csv('../Data/Processed_matrix.csv')"
   ]
  },
  {
   "cell_type": "code",
   "execution_count": null,
   "id": "1221030b",
   "metadata": {},
   "outputs": [],
   "source": []
  }
 ],
 "metadata": {
  "kernelspec": {
   "display_name": "Python 3",
   "language": "python",
   "name": "python3"
  },
  "language_info": {
   "codemirror_mode": {
    "name": "ipython",
    "version": 3
   },
   "file_extension": ".py",
   "mimetype": "text/x-python",
   "name": "python",
   "nbconvert_exporter": "python",
   "pygments_lexer": "ipython3",
   "version": "3.13.1"
  }
 },
 "nbformat": 4,
 "nbformat_minor": 5
}
